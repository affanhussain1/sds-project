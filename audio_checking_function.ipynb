{
 "cells": [
  {
   "cell_type": "markdown",
   "id": "986effef",
   "metadata": {},
   "source": [
    "# Clients Wrong Code"
   ]
  },
  {
   "cell_type": "code",
   "execution_count": null,
   "id": "534fb0da",
   "metadata": {},
   "outputs": [],
   "source": [
    "def predict_class(file_path):\n",
    "    sample_rate = 16000\n",
    "    duration = 6\n",
    "    n_fft = 512\n",
    "    hop_length = 128\n",
    "    n_mels = 128\n",
    "    \n",
    "    try:\n",
    "        audio, _ = librosa.load(file_path, sr=sample_rate, duration=duration)\n",
    "    except Exception as e:\n",
    "        print(f\"Error loading audio file {file_path}: {e}\")\n",
    "        return None\n",
    "    \n",
    "    if len(audio)  0.5 else \"real\"\n",
    "    \n",
    "    return predicted_class,predictions[0][0]"
   ]
  },
  {
   "cell_type": "markdown",
   "id": "6bf58cee",
   "metadata": {},
   "source": [
    "# Clients Correct Code"
   ]
  },
  {
   "cell_type": "code",
   "execution_count": 4,
   "id": "4ad03515",
   "metadata": {},
   "outputs": [
    {
     "name": "stdout",
     "output_type": "stream",
     "text": [
      "Predicted class: real\n"
     ]
    }
   ],
   "source": [
    "import librosa\n",
    "\n",
    "def predict_class(file_path):\n",
    "    sample_rate = 16000\n",
    "    duration = 6\n",
    "    n_fft = 512\n",
    "    hop_length = 128\n",
    "    n_mels = 128\n",
    "    \n",
    "    try:\n",
    "        audio, _ = librosa.load(file_path, sr=sample_rate, duration=duration)\n",
    "    except Exception as e:\n",
    "        print(f\"Error loading audio file {file_path}: {e}\")\n",
    "        return None\n",
    "    \n",
    "    if len(audio) < sample_rate * duration:\n",
    "        print(\"Audio file too short\")\n",
    "        return None\n",
    "    \n",
    "    # Placeholder for your model prediction logic\n",
    "    predicted_class = \"fake\" if len(audio) < 0.5 else \"real\"\n",
    "    \n",
    "    return predicted_class\n",
    "\n",
    "# Example usage:\n",
    "file_path = \"./Downloads/file.wav\"\n",
    "predicted_class = predict_class(file_path)\n",
    "print(\"Predicted class:\", predicted_class)\n"
   ]
  },
  {
   "cell_type": "markdown",
   "id": "db666806",
   "metadata": {},
   "source": [
    "# After loading model of client, correct code"
   ]
  },
  {
   "cell_type": "code",
   "execution_count": 5,
   "id": "9c1fab24",
   "metadata": {},
   "outputs": [
    {
     "name": "stdout",
     "output_type": "stream",
     "text": [
      "1/1 [==============================] - 0s 327ms/step\n",
      "('real', 1.0)\n"
     ]
    }
   ],
   "source": [
    "import librosa\n",
    "import numpy as np\n",
    "from tensorflow.keras.models import load_model\n",
    "\n",
    "def predict_class(file_path, model_path):\n",
    "    sample_rate = 16000\n",
    "    duration = 6\n",
    "    n_fft = 512\n",
    "    hop_length = 128\n",
    "    n_mels = 128\n",
    "    \n",
    "    try:\n",
    "        audio, _ = librosa.load(file_path, sr=sample_rate, duration=duration)\n",
    "    except Exception as e:\n",
    "        print(f\"Error loading audio file {file_path}: {e}\")\n",
    "        return None\n",
    "    \n",
    "    if len(audio) < sample_rate * duration:\n",
    "        print(\"Audio file too short\")\n",
    "        return None\n",
    "    \n",
    "    # Convert audio to Mel spectrogram\n",
    "    mel_spectrogram = librosa.feature.melspectrogram(y=audio, sr=sample_rate, n_fft=n_fft, hop_length=hop_length, n_mels=n_mels)\n",
    "    mel_spectrogram = librosa.power_to_db(mel_spectrogram, ref=np.max)\n",
    "    \n",
    "    # Reshape spectrogram to match the input shape expected by the model\n",
    "    mel_spectrogram = mel_spectrogram.reshape(1, mel_spectrogram.shape[0], mel_spectrogram.shape[1], 1)\n",
    "    \n",
    "    try:\n",
    "        # Load the model\n",
    "        model = load_model(model_path)\n",
    "        \n",
    "        # Perform prediction\n",
    "        predictions = model.predict(mel_spectrogram)\n",
    "        \n",
    "        # Assuming it's a binary classification, use 0.5 as threshold\n",
    "        predicted_class = \"fake\" if predictions[0][0] < 0.5 else \"real\"\n",
    "        \n",
    "        return predicted_class, predictions[0][0]\n",
    "    \n",
    "    except Exception as e:\n",
    "        print(f\"Error predicting class: {e}\")\n",
    "        return None\n",
    "\n",
    "# Example usage:\n",
    "file_path = \"./Downloads/file.wav\"\n",
    "model_path = \"./Downloads/CNNaudio_classifier.h5\"\n",
    "result = predict_class(file_path, model_path)\n",
    "print(result)\n"
   ]
  },
  {
   "cell_type": "markdown",
   "id": "b6e542ae",
   "metadata": {},
   "source": [
    "# Model Evaluation"
   ]
  },
  {
   "cell_type": "code",
   "execution_count": 3,
   "id": "b397797b",
   "metadata": {},
   "outputs": [
    {
     "name": "stdout",
     "output_type": "stream",
     "text": [
      "Model: \"sequential\"\n",
      "_________________________________________________________________\n",
      " Layer (type)                Output Shape              Param #   \n",
      "=================================================================\n",
      " conv2d (Conv2D)             (None, 126, 749, 32)      320       \n",
      "                                                                 \n",
      " max_pooling2d (MaxPooling2  (None, 63, 374, 32)       0         \n",
      " D)                                                              \n",
      "                                                                 \n",
      " conv2d_1 (Conv2D)           (None, 61, 372, 64)       18496     \n",
      "                                                                 \n",
      " max_pooling2d_1 (MaxPoolin  (None, 30, 186, 64)       0         \n",
      " g2D)                                                            \n",
      "                                                                 \n",
      " dropout (Dropout)           (None, 30, 186, 64)       0         \n",
      "                                                                 \n",
      " flatten (Flatten)           (None, 357120)            0         \n",
      "                                                                 \n",
      " dense (Dense)               (None, 128)               45711488  \n",
      "                                                                 \n",
      " dropout_1 (Dropout)         (None, 128)               0         \n",
      "                                                                 \n",
      " dense_1 (Dense)             (None, 1)                 129       \n",
      "                                                                 \n",
      "=================================================================\n",
      "Total params: 45730433 (174.45 MB)\n",
      "Trainable params: 45730433 (174.45 MB)\n",
      "Non-trainable params: 0 (0.00 Byte)\n",
      "_________________________________________________________________\n",
      "None\n",
      "Input shape: (None, 128, 751, 1)\n",
      "Number of classes: 1\n"
     ]
    }
   ],
   "source": [
    "from tensorflow.keras.models import load_model\n",
    "\n",
    "# Load the model\n",
    "model = load_model(\"./Downloads/CNNaudio_classifier.h5\")\n",
    "\n",
    "# Display model summary\n",
    "print(model.summary())\n",
    "\n",
    "# Get input shape\n",
    "input_shape = model.input_shape\n",
    "print(\"Input shape:\", input_shape)\n",
    "\n",
    "# Get number of output classes\n",
    "num_classes = model.output_shape[1] if len(model.output_shape) > 1 else 1\n",
    "print(\"Number of classes:\", num_classes)\n"
   ]
  },
  {
   "cell_type": "code",
   "execution_count": null,
   "id": "77b69308",
   "metadata": {},
   "outputs": [],
   "source": []
  }
 ],
 "metadata": {
  "kernelspec": {
   "display_name": "Python 3 (ipykernel)",
   "language": "python",
   "name": "python3"
  },
  "language_info": {
   "codemirror_mode": {
    "name": "ipython",
    "version": 3
   },
   "file_extension": ".py",
   "mimetype": "text/x-python",
   "name": "python",
   "nbconvert_exporter": "python",
   "pygments_lexer": "ipython3",
   "version": "3.11.4"
  }
 },
 "nbformat": 4,
 "nbformat_minor": 5
}
